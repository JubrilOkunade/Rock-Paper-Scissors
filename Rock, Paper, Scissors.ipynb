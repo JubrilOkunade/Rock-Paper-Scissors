{
 "cells": [
  {
   "cell_type": "markdown",
   "id": "d73f5371",
   "metadata": {},
   "source": [
    "# Introduction\n",
    "\n",
    "I created a rock, paper, sciccors game."
   ]
  },
  {
   "cell_type": "code",
   "execution_count": 1,
   "id": "f0843e3e",
   "metadata": {},
   "outputs": [],
   "source": [
    "# bring in the rock, paper and scissors ascii art.\n",
    "rock = '''\n",
    "    _______\n",
    "---'   ____)\n",
    "      (_____)\n",
    "      (_____)\n",
    "      (____)\n",
    "---.__(___)\n",
    "'''\n",
    "\n",
    "paper = '''\n",
    "    _______\n",
    "---'   ____)____\n",
    "          ______)\n",
    "          _______)\n",
    "         _______)\n",
    "---.__________)\n",
    "'''\n",
    "\n",
    "scissors = '''\n",
    "    _______\n",
    "---'   ____)____\n",
    "          ______)\n",
    "       __________)\n",
    "      (____)\n",
    "---.__(___)\n",
    "'''"
   ]
  },
  {
   "cell_type": "code",
   "execution_count": 5,
   "id": "dfad54de",
   "metadata": {},
   "outputs": [],
   "source": [
    "# import random module.\n",
    "import random "
   ]
  },
  {
   "cell_type": "code",
   "execution_count": 4,
   "id": "c4fe0634",
   "metadata": {},
   "outputs": [
    {
     "name": "stdout",
     "output_type": "stream",
     "text": [
      "What do you choose? Type 0 for rock, 1 for paper and 2 for scissors 2\n",
      "you choose scissors!\n",
      "\n",
      "    _______\n",
      "---'   ____)\n",
      "      (_____)\n",
      "      (_____)\n",
      "      (____)\n",
      "---.__(___)\n",
      "\n",
      "computer chooses:\n",
      "1\n",
      "You win!!!\n"
     ]
    }
   ],
   "source": [
    "# create a list for rock,paper,scissors.\n",
    "lst =[rock,paper,scissors]\n",
    "# find number of characters in list.\n",
    "cnt_list =len(lst)\n",
    "# create a random pick for compueter choice.\n",
    "comp_pick =random.randint(0,cnt_list-1)\n",
    "# Ask the player to pick.\n",
    "pick =input('What do you choose? Type 0 for rock, 1 for paper and 2 for scissors ')\n",
    "# write code for the rules of the game.\n",
    "if pick=='0':\n",
    "  print('you choose rock!')\n",
    "  print(rock)\n",
    "  \n",
    "  print('computer chooses:')\n",
    "  print(comp_pick)\n",
    "  if comp_pick==0:\n",
    "    print('a tie!. Play again')\n",
    "  elif comp_pick==1:\n",
    "    print('You loose!. Paper beats rock')\n",
    "  else:\n",
    "    print('You win!!!')\n",
    "elif pick=='1':\n",
    "  print('you choose paper!')\n",
    "  print(rock)\n",
    "  \n",
    "  print('computer chooses:')\n",
    "  print(comp_pick)\n",
    "  if comp_pick==1:\n",
    "    print('a tie!. Play again')\n",
    "  elif comp_pick==2:\n",
    "    print('You loose!. Scissors cuts paper')\n",
    "  else:\n",
    "    print('You win!!!')\n",
    "elif pick=='2':\n",
    "  print('you choose scissors!')\n",
    "  print(rock)\n",
    "  \n",
    "  print('computer chooses:')\n",
    "  print(comp_pick)\n",
    "  if comp_pick==2:\n",
    "    print('a tie!. Play again')\n",
    "  elif comp_pick==0:\n",
    "    print('You loose!. rock beats scissors')\n",
    "  else:\n",
    "    print('You win!!!')"
   ]
  }
 ],
 "metadata": {
  "kernelspec": {
   "display_name": "Python 3 (ipykernel)",
   "language": "python",
   "name": "python3"
  },
  "language_info": {
   "codemirror_mode": {
    "name": "ipython",
    "version": 3
   },
   "file_extension": ".py",
   "mimetype": "text/x-python",
   "name": "python",
   "nbconvert_exporter": "python",
   "pygments_lexer": "ipython3",
   "version": "3.9.7"
  }
 },
 "nbformat": 4,
 "nbformat_minor": 5
}
